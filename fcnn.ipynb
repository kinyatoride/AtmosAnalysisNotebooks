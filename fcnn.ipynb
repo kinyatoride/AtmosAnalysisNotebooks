{
 "cells": [
  {
   "cell_type": "markdown",
   "metadata": {},
   "source": [
    "# Fully connected neural network (FCNN)\n",
    "\n",
    "Forecast Nino 3.4 index using the principal components of SST"
   ]
  },
  {
   "cell_type": "code",
   "execution_count": 107,
   "metadata": {},
   "outputs": [],
   "source": [
    "import numpy as np\n",
    "import pandas as pd\n",
    "import xarray as xr\n",
    "import torch\n",
    "import torch.nn as nn\n",
    "from torch.utils.data import Dataset, DataLoader\n",
    "\n",
    "import matplotlib.pyplot as plt"
   ]
  },
  {
   "cell_type": "code",
   "execution_count": 115,
   "metadata": {},
   "outputs": [],
   "source": [
    "# Hyperparameters\n",
    "hp = {\n",
    "    'lead': 3,    # Target lead (months)\n",
    "    'batch_size': 16,\n",
    "    'period': {\n",
    "        'train': (1940, 1992),\n",
    "        'val': (1993, 2007),\n",
    "        'test': (2008, 2022),\n",
    "    }\n",
    "}"
   ]
  },
  {
   "cell_type": "code",
   "execution_count": 116,
   "metadata": {},
   "outputs": [
    {
     "name": "stdout",
     "output_type": "stream",
     "text": [
      "nino.shape = (1008, 1)\n",
      "pc.shape = (3, 1008)\n"
     ]
    }
   ],
   "source": [
    "# Read Nino indices\n",
    "f = 'data/era5_nino.csv'\n",
    "nino = pd.read_csv(f, index_col=0, parse_dates=True)[['nino34']]\n",
    "\n",
    "# Shift time index\n",
    "nino_shift = nino.set_index(nino.index - pd.DateOffset(months=hp['lead']))\n",
    "\n",
    "# Read SST PCs\n",
    "f = 'data/era5_monthly_sst_pc.nc'\n",
    "pc = xr.open_dataarray(f)\n",
    "pc = pc.sel(mode=slice(1, 3))\n",
    "\n",
    "# Normalize PCs\n",
    "pc /= pc.std(dim='time')\n",
    "\n",
    "print(f'{nino.shape = :}')\n",
    "print(f'{pc.shape = :}')"
   ]
  },
  {
   "cell_type": "markdown",
   "metadata": {},
   "source": [
    "## Dataset & Dataloader"
   ]
  },
  {
   "cell_type": "code",
   "execution_count": 117,
   "metadata": {},
   "outputs": [],
   "source": [
    "class SSTDataset(Dataset):\n",
    "    def __init__(self, pc, nino):\n",
    "        self.pc = pc\n",
    "        self.nino = nino\n",
    "\n",
    "    def __len__(self):\n",
    "        return len(self.nino)\n",
    "\n",
    "    def __getitem__(self, idx):\n",
    "        x = self.pc[idx].float()\n",
    "        y = self.nino[idx].float()\n",
    "        return x, y "
   ]
  },
  {
   "cell_type": "code",
   "execution_count": 118,
   "metadata": {},
   "outputs": [
    {
     "name": "stdout",
     "output_type": "stream",
     "text": [
      "train (1940, 1992)\n",
      "val (1993, 2007)\n",
      "test (2008, 2022)\n"
     ]
    }
   ],
   "source": [
    "datasets = {}\n",
    "dataloaders = {}\n",
    "for key, period in hp['period'].items():\n",
    "    syy, eyy = period\n",
    "    print(key, period)\n",
    "\n",
    "    # Select period\n",
    "    pc_sel = pc.sel(time=slice(f'{syy}-01-01', f'{eyy}-12-31')).T\n",
    "    nino_sel = nino_shift.loc[f'{syy}-01-01':f'{eyy}-12-31', 'nino34']\n",
    "\n",
    "    # To tensor\n",
    "    pc_sel = torch.from_numpy(pc_sel.data)\n",
    "    nino_sel = torch.from_numpy(nino_sel.values)\n",
    "\n",
    "    # Datasets\n",
    "    datasets[key] = SSTDataset(pc_sel, nino_sel)\n",
    "    dataloaders[key] = DataLoader(datasets[key],\n",
    "                                  batch_size=hp['batch_size'],\n",
    "                                  shuffle=True)"
   ]
  },
  {
   "cell_type": "markdown",
   "metadata": {},
   "source": [
    "# Model"
   ]
  },
  {
   "cell_type": "code",
   "execution_count": 119,
   "metadata": {},
   "outputs": [
    {
     "name": "stdout",
     "output_type": "stream",
     "text": [
      "Using cpu device\n"
     ]
    }
   ],
   "source": [
    "# Device\n",
    "device = 'cuda' if torch.cuda.is_available() else 'cpu'\n",
    "print(f'Using {device} device')"
   ]
  },
  {
   "cell_type": "code",
   "execution_count": 120,
   "metadata": {},
   "outputs": [],
   "source": [
    "class NeuralNetwork(nn.Module):\n",
    "    def __init__(self):\n",
    "        super().__init__()\n",
    "        # self.flatten = nn.Flatten()\n",
    "        self.fcnn = nn.Sequential(\n",
    "            nn.Linear(3, 16),\n",
    "            nn.ReLU(),\n",
    "            nn.Linear(16, 16),\n",
    "            nn.ReLU(),\n",
    "            nn.Linear(16, 1),\n",
    "        )\n",
    "\n",
    "    def forward(self, x):\n",
    "        # x = self.flatten(x)\n",
    "        return self.fcnn(x)"
   ]
  },
  {
   "cell_type": "code",
   "execution_count": 121,
   "metadata": {},
   "outputs": [
    {
     "name": "stdout",
     "output_type": "stream",
     "text": [
      "NeuralNetwork(\n",
      "  (fcnn): Sequential(\n",
      "    (0): Linear(in_features=3, out_features=16, bias=True)\n",
      "    (1): ReLU()\n",
      "    (2): Linear(in_features=16, out_features=16, bias=True)\n",
      "    (3): ReLU()\n",
      "    (4): Linear(in_features=16, out_features=1, bias=True)\n",
      "  )\n",
      ")\n",
      "Total params: 353\n"
     ]
    }
   ],
   "source": [
    "model = NeuralNetwork().to(device)\n",
    "print(model)\n",
    "\n",
    "total_params = sum(p.numel() for p in model.parameters() if p.requires_grad)\n",
    "print(f'Total params: {total_params:,}')"
   ]
  },
  {
   "cell_type": "markdown",
   "metadata": {},
   "source": [
    "# Train"
   ]
  },
  {
   "cell_type": "code",
   "execution_count": 122,
   "metadata": {},
   "outputs": [],
   "source": [
    "learning_rate = 1e-5\n",
    "optimizer = torch.optim.Adam(model.parameters(), lr=learning_rate)\n",
    "loss_fn = nn.MSELoss()"
   ]
  },
  {
   "cell_type": "code",
   "execution_count": 123,
   "metadata": {},
   "outputs": [],
   "source": [
    "epochs = 100\n",
    "\n",
    "history = []\n",
    "for epoch in range(epochs):\n",
    "    # Training\n",
    "    model.train()\n",
    "    train_loss = 0\n",
    "    for batch, (x, y) in enumerate(dataloaders['train']):\n",
    "        x, y = x.to(device), y.to(device)\n",
    "        y_pred = model(x)[:, 0]\n",
    "        loss = loss_fn(y_pred, y)\n",
    "\n",
    "        # Backpropagation\n",
    "        loss.backward()\n",
    "        optimizer.step()\n",
    "        optimizer.zero_grad()\n",
    "\n",
    "        train_loss += loss.item()\n",
    "    train_loss /= len(dataloaders['train'])\n",
    "\n",
    "    # Validation\n",
    "    model.eval()\n",
    "    val_loss = 0\n",
    "    with torch.no_grad():\n",
    "        for batch, (x, y) in enumerate(dataloaders['val']):\n",
    "            x, y = x.to(device), y.to(device)\n",
    "            y_pred = model(x)[:, 0]\n",
    "            loss = loss_fn(y_pred, y)\n",
    "\n",
    "        val_loss += loss.item()\n",
    "    val_loss /= len(dataloaders['val'])\n",
    "\n",
    "    # Store loss\n",
    "    history.append({\n",
    "        'train_loss': train_loss,\n",
    "        'val_loss': val_loss,\n",
    "    })\n",
    "\n",
    "history = pd.DataFrame(history)"
   ]
  },
  {
   "cell_type": "code",
   "execution_count": 124,
   "metadata": {},
   "outputs": [
    {
     "data": {
      "image/png": "[encoded data removed]",
      "text/plain": [
       "<Figure size 400x400 with 1 Axes>"
      ]
     },
     "metadata": {},
     "output_type": "display_data"
    }
   ],
   "source": [
    "fig, ax = plt.subplots(figsize=(4, 4))\n",
    "ax.plot(history, label=history.columns)\n",
    "ax.legend()\n",
    "ax.set(\n",
    "    xlabel='epoches',\n",
    "    ylabel='loss',\n",
    ")\n",
    "ax.grid()"
   ]
  },
  {
   "cell_type": "code",
   "execution_count": null,
   "metadata": {},
   "outputs": [],
   "source": []
  }
 ],
 "metadata": {
  "kernelspec": {
   "display_name": "basic",
   "language": "python",
   "name": "python3"
  },
  "language_info": {
   "codemirror_mode": {
    "name": "ipython",
    "version": 3
   },
   "file_extension": ".py",
   "mimetype": "text/x-python",
   "name": "python",
   "nbconvert_exporter": "python",
   "pygments_lexer": "ipython3",
   "version": "3.12.4"
  }
 },
 "nbformat": 4,
 "nbformat_minor": 2
}
