{
 "cells": [
  {
   "cell_type": "markdown",
   "id": "41d2535e-d059-4324-8ec8-528fef6e08bb",
   "metadata": {
    "tags": []
   },
   "source": [
    "# Multiple regression\n",
    "\n",
    "$$ y = \\beta_0 + \\beta_1 x_1 + \\beta_2 x_2 $$"
   ]
  },
  {
   "cell_type": "code",
   "execution_count": 2,
   "id": "adb37b9e-4b3c-4048-befc-b1f22026b502",
   "metadata": {},
   "outputs": [],
   "source": [
    "import numpy as np\n",
    "import pandas as pd\n",
    "from scipy import signal, stats\n",
    "import matplotlib.pyplot as plt"
   ]
  },
  {
   "cell_type": "code",
   "execution_count": 3,
   "id": "6140669c-4f1f-44b1-95e1-d53dcff22e0c",
   "metadata": {},
   "outputs": [
    {
     "name": "stdout",
     "output_type": "stream",
     "text": [
      "Number of samples = 3625\n",
      "x.shape = (3625, 2)\n",
      "y.shape = (3625,)\n"
     ]
    }
   ],
   "source": [
    "# RMM index\n",
    "f = 'data/RMM_clean.csv'\n",
    "df = pd.read_csv(f, index_col=0, parse_dates=True)\n",
    "\n",
    "# select period\n",
    "df = df['1980-01-01':'1999-12-31']\n",
    "df = df.loc[((df.index.month <= 4) | (df.index.month >= 11))] \n",
    "\n",
    "n = df.shape[0]\n",
    "print(f'Number of samples = {n}')\n",
    "\n",
    "# Z500\n",
    "f = 'data/MERRA2.H.500.anom.point.csv'\n",
    "h500 = pd.read_csv(f, index_col=0, parse_dates=True)\n",
    "h500 = h500.loc[df.index]\n",
    "\n",
    "# x and y\n",
    "x = df[['RMM1', 'RMM2']].values\n",
    "y = h500['H'].values\n",
    "\n",
    "print(f'{x.shape = :}')\n",
    "print(f'{y.shape = :}')"
   ]
  },
  {
   "cell_type": "markdown",
   "id": "7ea9f8ed",
   "metadata": {},
   "source": [
    "$$y = Ap = \\begin{bmatrix} x_1 & x_2 & 1 \\end{bmatrix} \\begin{bmatrix} \\beta_1 \\\\ \\beta_2 \\\\ \\beta_0 \\end{bmatrix} = \\beta_0 + \\beta_1 x_1 + \\beta_2 x_2 $$"
   ]
  },
  {
   "cell_type": "code",
   "execution_count": 8,
   "id": "734adad4",
   "metadata": {},
   "outputs": [
    {
     "name": "stdout",
     "output_type": "stream",
     "text": [
      "A.shape = (3625, 3)\n",
      "[[ 0.81158602 -0.0664676   1.        ]\n",
      " [ 0.70508802 -0.0296843   1.        ]\n",
      " [ 0.66273302  0.0371988   1.        ]\n",
      " [ 0.61483997  0.21363001  1.        ]\n",
      " [ 0.70287699  0.490769    1.        ]]\n"
     ]
    }
   ],
   "source": [
    "A = np.hstack([x, np.ones((n, 1))])\n",
    "print(f'{A.shape = :}')\n",
    "print(A[:5])"
   ]
  },
  {
   "cell_type": "code",
   "execution_count": 9,
   "id": "7a42259d",
   "metadata": {},
   "outputs": [
    {
     "name": "stdout",
     "output_type": "stream",
     "text": [
      "p = [ 11.06543568 -19.66071532 -12.24433374]\n",
      "Sums of squared residuals = [61035901.50265467]\n",
      "Rank of matrix A (number of linearly independent columns): 3\n",
      "Singular values of A: [67.71598801 61.62431145 60.19286619]\n"
     ]
    }
   ],
   "source": [
    "p, res, rnk, s = np.linalg.lstsq(A, y, rcond=None)\n",
    "\n",
    "print(f'p = {p}')\n",
    "print(f'Sums of squared residuals = {res}')\n",
    "print(f'Rank of matrix A (number of linearly independent columns): {rnk}')\n",
    "print(f'Singular values of A: {s}')"
   ]
  },
  {
   "cell_type": "code",
   "execution_count": 12,
   "id": "86b07ad3",
   "metadata": {},
   "outputs": [
    {
     "name": "stdout",
     "output_type": "stream",
     "text": [
      "Sums of squared residuals = 61035901.502654575\n"
     ]
    }
   ],
   "source": [
    "# Reconstruction\n",
    "y_recon = A @ p\n",
    "\n",
    "# Residual\n",
    "y_res = y - y_recon\n",
    "\n",
    "# sum of squared residuals\n",
    "print(f'Sums of squared residuals = {(y_res**2).sum()}')"
   ]
  },
  {
   "cell_type": "code",
   "execution_count": 13,
   "id": "23ae37f6-23ab-4d5a-9466-acc6a740c229",
   "metadata": {},
   "outputs": [
    {
     "name": "stdout",
     "output_type": "stream",
     "text": [
      "y = 11.07 RMM1 -19.66 RMM2 -12.24\n"
     ]
    }
   ],
   "source": [
    "print(f'y = {p[0]:.2f} RMM1 {+p[1]:.2f} RMM2 {+p[2]:.2f}')"
   ]
  },
  {
   "cell_type": "code",
   "execution_count": 14,
   "id": "bc237093-d352-47e6-8bc1-233e92a83eda",
   "metadata": {},
   "outputs": [
    {
     "data": {
      "text/plain": [
       "[<matplotlib.lines.Line2D at 0x2b39ef975670>]"
      ]
     },
     "execution_count": 14,
     "metadata": {},
     "output_type": "execute_result"
    },
    {
     "data": {
      "image/png": "[encoded data removed]",
      "text/plain": [
       "<Figure size 400x400 with 1 Axes>"
      ]
     },
     "metadata": {},
     "output_type": "display_data"
    }
   ],
   "source": [
    "fig, ax = plt.subplots(figsize=(4,4))\n",
    "ax.plot(y_res)"
   ]
  },
  {
   "cell_type": "markdown",
   "id": "29bb7325-c377-45d8-967b-da8e5c71694f",
   "metadata": {},
   "source": [
    "# Hypothesis tests"
   ]
  },
  {
   "cell_type": "markdown",
   "id": "996a033b-f376-4e9f-8b60-26b08964952f",
   "metadata": {},
   "source": [
    "## Test for significance of regression (ANOVA)\n",
    "\n",
    "$H_0$: $ \\beta_1 = \\beta_2 = 0 $"
   ]
  },
  {
   "cell_type": "code",
   "execution_count": 31,
   "id": "0b7e54a3-a927-43d3-bbb4-6eaf056edc24",
   "metadata": {},
   "outputs": [
    {
     "name": "stdout",
     "output_type": "stream",
     "text": [
      "SST = 6.3e+07, SSR = 2.3e+06, SSE = 6.1e+07\n",
      "R2 = 0.037\n"
     ]
    }
   ],
   "source": [
    "# total sum of squares\n",
    "SST = np.sum((y - y.mean())**2)\n",
    "\n",
    "# regression sum of squares\n",
    "SSR = np.sum((yreg - y.mean())**2)\n",
    "\n",
    "# sum of squared erros\n",
    "SSE = np.sum((y - yreg)**2)\n",
    "\n",
    "# coefficient of determination\n",
    "R2 = SSR / SST\n",
    "\n",
    "print(f'{SST = :.2g}, {SSR = :.2g}, {SSE = :.2g}')\n",
    "print(f'{R2 = :.2g}')"
   ]
  },
  {
   "cell_type": "code",
   "execution_count": 26,
   "id": "922448aa-4fd7-4d6f-89d9-70d940dcbbc7",
   "metadata": {},
   "outputs": [
    {
     "name": "stdout",
     "output_type": "stream",
     "text": [
      "F = 69.19\n"
     ]
    }
   ],
   "source": [
    "# degree of freedom\n",
    "dfn = 2\n",
    "dfd = n - 3\n",
    "#dfd = n_eff - 3\n",
    "\n",
    "MSR = SSR / dfn\n",
    "MSE = SSE / dfd\n",
    "\n",
    "F = MSR / MSE\n",
    "print(f'{F = :.2f}')"
   ]
  },
  {
   "cell_type": "code",
   "execution_count": 27,
   "id": "d65ce76c-a185-4ec0-945e-6615c51bbba8",
   "metadata": {},
   "outputs": [
    {
     "name": "stdout",
     "output_type": "stream",
     "text": [
      "f_alpha = 3, p = 1.11e-16\n"
     ]
    }
   ],
   "source": [
    "# one-side test\n",
    "alpha = 0.05\n",
    "f_alpha = stats.f.ppf(1-alpha, dfn, dfd)\n",
    "p = 1 - stats.f.cdf(F, dfn, dfd)\n",
    "\n",
    "print(f'{f_alpha = :.3g}, {p = :.3g}')"
   ]
  },
  {
   "cell_type": "code",
   "execution_count": 28,
   "id": "f5b684da-4d6e-45c7-9c55-24ffd92a29a3",
   "metadata": {},
   "outputs": [
    {
     "data": {
      "text/plain": [
       "<matplotlib.lines.Line2D at 0x15df53f70>"
      ]
     },
     "execution_count": 28,
     "metadata": {},
     "output_type": "execute_result"
    },
    {
     "data": {
      "image/png": "[encoded data removed]",
      "text/plain": [
       "<Figure size 288x288 with 1 Axes>"
      ]
     },
     "metadata": {
      "needs_background": "light"
     },
     "output_type": "display_data"
    }
   ],
   "source": [
    "xx = np.linspace(stats.f.ppf(0.001, dfn, dfd), \n",
    "                 stats.f.ppf(0.999, dfn, dfd), 100)\n",
    "\n",
    "fig, ax = plt.subplots(figsize=(4,4))\n",
    "ax.plot(xx, stats.f.pdf(xx, dfn, dfd))\n",
    "ax.grid()\n",
    "ax.axvline(F, c='r')\n",
    "ax.axvline(f_alpha, c='k', ls='--')"
   ]
  },
  {
   "cell_type": "code",
   "execution_count": null,
   "id": "a040a284-7825-4ac9-8feb-787309885c7c",
   "metadata": {},
   "outputs": [],
   "source": []
  }
 ],
 "metadata": {
  "kernelspec": {
   "display_name": "Python 3 (ipykernel)",
   "language": "python",
   "name": "python3"
  },
  "language_info": {
   "codemirror_mode": {
    "name": "ipython",
    "version": 3
   },
   "file_extension": ".py",
   "mimetype": "text/x-python",
   "name": "python",
   "nbconvert_exporter": "python",
   "pygments_lexer": "ipython3",
   "version": "3.9.16"
  }
 },
 "nbformat": 4,
 "nbformat_minor": 5
}
