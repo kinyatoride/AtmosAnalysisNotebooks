{
 "cells": [
  {
   "cell_type": "code",
   "execution_count": 1,
   "metadata": {},
   "outputs": [],
   "source": [
    "import numpy as np\n",
    "import pandas as pd\n",
    "import matplotlib.pyplot as plt"
   ]
  },
  {
   "cell_type": "code",
   "execution_count": 2,
   "metadata": {},
   "outputs": [
    {
     "name": "stdout",
     "output_type": "stream",
     "text": [
      "Number of samples = 3625\n",
      "x.shape = (3625, 2)\n",
      "y.shape = (3625, 3)\n"
     ]
    }
   ],
   "source": [
    "# RMM index\n",
    "f = 'data/RMM_clean.csv'\n",
    "df = pd.read_csv(f, index_col=0, parse_dates=True)\n",
    "\n",
    "# select period\n",
    "df = df['1980-01-01':'1999-12-31']\n",
    "df = df.loc[((df.index.month <= 4) | (df.index.month >= 11))] \n",
    "\n",
    "n = df.shape[0]\n",
    "print(f'Number of samples = {n}')\n",
    "\n",
    "# Z500\n",
    "f = 'data/MERRA2.H.500.anom.points.csv'\n",
    "h500 = pd.read_csv(f, index_col=0, parse_dates=True)\n",
    "h500 = h500.loc[df.index]\n",
    "\n",
    "# x and y\n",
    "x = df[['RMM1', 'RMM2']].values\n",
    "y = h500.values\n",
    "\n",
    "print(f'{x.shape = :}')\n",
    "print(f'{y.shape = :}')"
   ]
  },
  {
   "cell_type": "markdown",
   "metadata": {},
   "source": [
    "$$y\n",
    "= \\begin{bmatrix} y_1 & y_2 & y_3 \\end{bmatrix} \n",
    "= Ap\n",
    "= \\begin{bmatrix} x_1 & x_2 & 1 \\end{bmatrix} \n",
    "\\begin{bmatrix} \n",
    "    \\beta_{1, 1} & \\beta_{2, 1} & \\beta_{3, 1} \\\\ \n",
    "    \\beta_{1, 2} & \\beta_{2, 2} & \\beta_{3, 2} \\\\ \n",
    "    \\beta_{1, 0} & \\beta_{2, 0} & \\beta_{3, 0} \\\\ \n",
    "\\end{bmatrix} "
   ]
  },
  {
   "cell_type": "code",
   "execution_count": 3,
   "metadata": {},
   "outputs": [
    {
     "name": "stdout",
     "output_type": "stream",
     "text": [
      "A.shape = (3625, 3)\n",
      "[[ 0.81158602 -0.0664676   1.        ]\n",
      " [ 0.70508802 -0.0296843   1.        ]\n",
      " [ 0.66273302  0.0371988   1.        ]\n",
      " [ 0.61483997  0.21363001  1.        ]\n",
      " [ 0.70287699  0.490769    1.        ]]\n"
     ]
    }
   ],
   "source": [
    "A = np.hstack([x, np.ones((n, 1))])\n",
    "print(f'{A.shape = :}')\n",
    "print(A[:5])"
   ]
  },
  {
   "cell_type": "code",
   "execution_count": 5,
   "metadata": {},
   "outputs": [
    {
     "name": "stdout",
     "output_type": "stream",
     "text": [
      "p.shape = (3, 3)\n",
      "p = [[ 11.06543568  -3.57836581  -2.1927536 ]\n",
      " [-19.66071532   7.35680147  -0.61678283]\n",
      " [-12.24433374  -3.36135726  -2.41285948]]\n",
      "Sums of squared residuals = [61035901.50265467 34716670.08485769   561830.73390595]\n",
      "Rank of matrix A (number of linearly independent columns): 3\n",
      "Singular values of A: [67.71598801 61.62431145 60.19286619]\n"
     ]
    }
   ],
   "source": [
    "p, res, rnk, s = np.linalg.lstsq(A, y, rcond=None)\n",
    "\n",
    "print(f'{p.shape = :}')\n",
    "print(f'{p = :}')\n",
    "print(f'Sums of squared residuals = {res}')\n",
    "print(f'Rank of matrix A (number of linearly independent columns): {rnk}')\n",
    "print(f'Singular values of A: {s}')"
   ]
  },
  {
   "cell_type": "code",
   "execution_count": 7,
   "metadata": {},
   "outputs": [
    {
     "name": "stdout",
     "output_type": "stream",
     "text": [
      "y_res.shape = (3625, 3)\n",
      "Sums of squared residuals = [61035901.50265458 34716670.08485775   561830.73390595]\n"
     ]
    }
   ],
   "source": [
    "# Reconstruction\n",
    "y_recon = A @ p\n",
    "\n",
    "# Residual\n",
    "y_res = y - y_recon\n",
    "print(f'{y_res.shape = :}')\n",
    "\n",
    "# sum of squared residuals\n",
    "print(f'Sums of squared residuals = {(y_res**2).sum(axis=0)}')"
   ]
  }
 ],
 "metadata": {
  "kernelspec": {
   "display_name": "basicf9",
   "language": "python",
   "name": "python3"
  },
  "language_info": {
   "codemirror_mode": {
    "name": "ipython",
    "version": 3
   },
   "file_extension": ".py",
   "mimetype": "text/x-python",
   "name": "python",
   "nbconvert_exporter": "python",
   "pygments_lexer": "ipython3",
   "version": "3.9.16"
  }
 },
 "nbformat": 4,
 "nbformat_minor": 2
}
